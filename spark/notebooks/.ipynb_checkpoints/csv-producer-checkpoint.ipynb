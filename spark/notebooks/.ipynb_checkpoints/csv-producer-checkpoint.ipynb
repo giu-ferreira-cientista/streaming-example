{
 "cells": [
  {
   "cell_type": "code",
   "execution_count": 12,
   "metadata": {
    "tags": []
   },
   "outputs": [],
   "source": [
    "# import libraries\n",
    "import json\n",
    "from pyspark.sql import SparkSession\n",
    "from pyspark.sql.types import StructType,StructField, StringType, IntegerType, DoubleType\n",
    "\n",
    "\n",
    "# Spark session & context\n",
    "spark = (SparkSession\n",
    "         .builder\n",
    "         .master('local')\n",
    "         .appName('json-producer')\n",
    "         # Add kafka package\n",
    "         .config(\"spark.jars.packages\", \"org.apache.spark:spark-sql-kafka-0-10_2.12:3.1.1\")\n",
    "         .getOrCreate())\n",
    "sc = spark.sparkContext"
   ]
  },
  {
   "cell_type": "code",
   "execution_count": 13,
   "metadata": {},
   "outputs": [],
   "source": [
    "mySchema = StructType([\n",
    " StructField(\"id\", IntegerType()),\n",
    " StructField(\"nome\", StringType()),\n",
    " StructField(\"idade\", IntegerType()),\n",
    " StructField(\"sexo\", IntegerType()),\n",
    " StructField(\"peso\", DoubleType()),\n",
    " StructField(\"altura\", IntegerType()),\n",
    " StructField(\"bpm\", DoubleType()),\n",
    " StructField(\"pressao\", DoubleType()),\n",
    " StructField(\"respiracao\", DoubleType()),\n",
    " StructField(\"temperatura\", DoubleType()),\n",
    " StructField(\"glicemia\", DoubleType()),\n",
    " StructField(\"saturacao_oxigenio\", DoubleType()),\n",
    " StructField(\"estado_atividade\", IntegerType()),\n",
    " StructField(\"dia_de_semana\", IntegerType()),\n",
    " StructField(\"periodo_do_dia\", IntegerType()),\n",
    " StructField(\"semana_do_mes\", IntegerType()),\n",
    " StructField(\"estacao_do_ano\", IntegerType()),\n",
    " StructField(\"passos\", IntegerType()),\n",
    " StructField(\"calorias\", DoubleType()),\n",
    " StructField(\"distancia\", DoubleType()),\n",
    " StructField(\"tempo\", DoubleType()),\n",
    " StructField(\"total_sleep_last_24\", DoubleType()),\n",
    " StructField(\"deep_sleep_last_24\", DoubleType()),\n",
    " StructField(\"light_sleep_last_24\", DoubleType()),\n",
    " StructField(\"awake_last_24\", DoubleType()),\n",
    " StructField(\"fumante\", IntegerType()),\n",
    " StructField(\"genetica\", IntegerType()),\n",
    " StructField(\"gestante\", IntegerType()),\n",
    " StructField(\"frutas\", IntegerType()),\n",
    " StructField(\"vegetais\", IntegerType()),\n",
    " StructField(\"alcool\", IntegerType()),\n",
    " StructField(\"doenca_coracao\", IntegerType()),     \n",
    " StructField(\"avc\", IntegerType()),\n",
    " StructField(\"colesterol_alto\", IntegerType()), \n",
    " StructField(\"exercicio\", IntegerType()), \n",
    " StructField(\"timestampstr\", StringType()),\n",
    " StructField(\"timestamp_epoch\", StringType())    \n",
    "])"
   ]
  },
  {
   "cell_type": "code",
   "execution_count": 14,
   "metadata": {},
   "outputs": [],
   "source": [
    "#import time\n",
    "\n",
    "#import os\n",
    "\n",
    "#timestr = time.strftime(\"%Y%m%d-%H%M%S\")\n",
    "\n",
    "#json_name = \"patient-data-\" + timestr + '.json' \n",
    "\n",
    "#os.system('curl \"https://api.mockaroo.com/api/e172bfb0?count=10&key=42e8f800\" > ' + json_name)\n",
    "\n",
    "#os.system('mv ' + json_name + ' ../json')\n"
   ]
  },
  {
   "cell_type": "code",
   "execution_count": 15,
   "metadata": {},
   "outputs": [],
   "source": [
    "\n",
    "csv_path = \"/home/jovyan/work/csv\"\n",
    "csv_topic = \"csv-data\"\n",
    "kafka_server = \"kafka:29092\"\n",
    "\n",
    "streamingDataFrame = spark.readStream.schema(mySchema).csv(csv_path).filter(\"id is not null\")\n",
    "\n"
   ]
  },
  {
   "cell_type": "code",
   "execution_count": 16,
   "metadata": {},
   "outputs": [
    {
     "data": {
      "text/plain": [
       "DataFrame[id: int, nome: string, idade: int, sexo: int, peso: double, altura: int, bpm: double, pressao: double, respiracao: double, temperatura: double, glicemia: double, saturacao_oxigenio: double, estado_atividade: int, dia_de_semana: int, periodo_do_dia: int, semana_do_mes: int, estacao_do_ano: int, passos: int, calorias: double, distancia: double, tempo: double, total_sleep_last_24: double, deep_sleep_last_24: double, light_sleep_last_24: double, awake_last_24: double, fumante: int, genetica: int, gestante: int, frutas: int, vegetais: int, alcool: int, doenca_coracao: int, avc: int, colesterol_alto: int, exercicio: int, timestampstr: string, timestamp_epoch: string]"
      ]
     },
     "metadata": {},
     "output_type": "display_data"
    }
   ],
   "source": [
    "display(streamingDataFrame)"
   ]
  },
  {
   "cell_type": "code",
   "execution_count": 19,
   "metadata": {},
   "outputs": [
    {
     "data": {
      "text/plain": [
       "<pyspark.sql.streaming.StreamingQuery at 0x7fabfb8ec340>"
      ]
     },
     "execution_count": 19,
     "metadata": {},
     "output_type": "execute_result"
    }
   ],
   "source": [
    "\n",
    "streamingDataFrame.selectExpr(\"CAST(id AS STRING) AS key\", \"to_json(struct(*)) AS value\") \\\n",
    "  .writeStream \\\n",
    "  .format(\"kafka\") \\\n",
    "  .option(\"topic\", csv_topic) \\\n",
    "  .option(\"kafka.bootstrap.servers\", kafka_server) \\\n",
    "  .option(\"checkpointLocation\", csv_path) \\\n",
    "  .start()\n"
   ]
  },
  {
   "cell_type": "code",
   "execution_count": 20,
   "metadata": {},
   "outputs": [
    {
     "data": {
      "text/plain": [
       "<pyspark.sql.streaming.StreamingQuery at 0x7fabfb88a5e0>"
      ]
     },
     "execution_count": 20,
     "metadata": {},
     "output_type": "execute_result"
    }
   ],
   "source": [
    "\n",
    "streamingDataFrame.selectExpr(\"CAST(id AS STRING) AS key\", \"to_json(struct(*)) AS value\") \\\n",
    "    .writeStream \\\n",
    "    .format(\"console\") \\\n",
    "    .start()\n"
   ]
  },
  {
   "cell_type": "code",
   "execution_count": 18,
   "metadata": {},
   "outputs": [
    {
     "name": "stdout",
     "output_type": "stream",
     "text": [
      "ID:354db060-3013-4287-ab59-95325e913387 | NAME:None\n",
      "ID:ec44f36a-758e-4f8c-bb9c-fee7aa370535 | NAME:None\n",
      "ID:e0650c91-2f7a-4b05-b717-e76a174ed67e | NAME:None\n"
     ]
    }
   ],
   "source": [
    "# Check active streams\n",
    "for s in spark.streams.active:\n",
    "    print(\"ID:{} | NAME:{}\".format(s.id, s.name))"
   ]
  },
  {
   "cell_type": "code",
   "execution_count": 69,
   "metadata": {},
   "outputs": [],
   "source": [
    "spark.stop()"
   ]
  },
  {
   "cell_type": "code",
   "execution_count": null,
   "metadata": {},
   "outputs": [],
   "source": []
  }
 ],
 "metadata": {
  "kernelspec": {
   "display_name": "Python 3",
   "language": "python",
   "name": "python3"
  },
  "language_info": {
   "codemirror_mode": {
    "name": "ipython",
    "version": 3
   },
   "file_extension": ".py",
   "mimetype": "text/x-python",
   "name": "python",
   "nbconvert_exporter": "python",
   "pygments_lexer": "ipython3",
   "version": "3.8.13 (default, Oct  4 2022, 14:00:32) \n[GCC 9.4.0]"
  },
  "vscode": {
   "interpreter": {
    "hash": "9ac03a0a6051494cc606d484d27d20fce22fb7b4d169f583271e11d5ba46a56e"
   }
  }
 },
 "nbformat": 4,
 "nbformat_minor": 4
}
