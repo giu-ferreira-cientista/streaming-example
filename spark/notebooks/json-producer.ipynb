{
 "cells": [
  {
   "cell_type": "code",
   "execution_count": 1,
   "metadata": {
    "tags": []
   },
   "outputs": [],
   "source": [
    "# import libraries\n",
    "import json\n",
    "from pyspark.sql import SparkSession\n",
    "from pyspark.sql.types import StructType,StructField, StringType, IntegerType, DoubleType\n",
    "\n",
    "\n",
    "\n",
    "# Spark session & context\n",
    "spark = (SparkSession\n",
    "         .builder\n",
    "         .master('local')\n",
    "         .appName('json-producer')\n",
    "         # Add kafka package\n",
    "         .config(\"spark.jars.packages\", \"org.apache.spark:spark-sql-kafka-0-10_2.12:3.1.1\")\n",
    "         .getOrCreate())\n",
    "sc = spark.sparkContext"
   ]
  },
  {
   "cell_type": "code",
   "execution_count": 2,
   "metadata": {},
   "outputs": [],
   "source": [
    "mySchema = StructType([\n",
    " StructField(\"id\", IntegerType()),\n",
    " StructField(\"nome\", StringType()),\n",
    " StructField(\"idade\", IntegerType()),\n",
    " StructField(\"sexo\", IntegerType()),\n",
    " StructField(\"peso\", DoubleType()),\n",
    " StructField(\"altura\", IntegerType()),\n",
    " StructField(\"bpm\", DoubleType()),\n",
    " StructField(\"pressao\", DoubleType()),\n",
    " StructField(\"respiracao\", DoubleType()),\n",
    " StructField(\"temperatura\", DoubleType()),\n",
    " StructField(\"glicemia\", DoubleType()),\n",
    " StructField(\"saturacao_oxigenio\", DoubleType()),\n",
    " StructField(\"estado_atividade\", IntegerType()),\n",
    " StructField(\"dia_de_semana\", IntegerType()),\n",
    " StructField(\"periodo_do_dia\", IntegerType()),\n",
    " StructField(\"semana_do_mes\", IntegerType()),\n",
    " StructField(\"estacao_do_ano\", IntegerType()),\n",
    " StructField(\"passos\", IntegerType()),\n",
    " StructField(\"calorias\", DoubleType()),\n",
    " StructField(\"distancia\", DoubleType()),\n",
    " StructField(\"tempo\", DoubleType()),\n",
    " StructField(\"total_sleep_last_24\", DoubleType()),\n",
    " StructField(\"deep_sleep_last_24\", DoubleType()),\n",
    " StructField(\"light_sleep_last_24\", DoubleType()),\n",
    " StructField(\"awake_last_24\", DoubleType()),\n",
    " StructField(\"fumante\", IntegerType()),\n",
    " StructField(\"genetica\", IntegerType()),\n",
    " StructField(\"gestante\", IntegerType()),\n",
    " StructField(\"frutas\", IntegerType()),\n",
    " StructField(\"vegetais\", IntegerType()),\n",
    " StructField(\"alcool\", IntegerType()),\n",
    " StructField(\"doenca_coracao\", IntegerType()),     \n",
    " StructField(\"avc\", IntegerType()),\n",
    " StructField(\"colesterol_alto\", IntegerType()), \n",
    " StructField(\"exercicio\", IntegerType()), \n",
    " StructField(\"timestampstr\", StringType()),\n",
    " StructField(\"timestamp_epoch\", StringType())    \n",
    "])"
   ]
  },
  {
   "cell_type": "code",
   "execution_count": 3,
   "metadata": {},
   "outputs": [],
   "source": [
    "#import time\n",
    "\n",
    "#import os\n",
    "\n",
    "#timestr = time.strftime(\"%Y%m%d-%H%M%S\")\n",
    "\n",
    "#json_name = \"patient-data-\" + timestr + '.json' \n",
    "\n",
    "#os.system('curl \"https://api.mockaroo.com/api/e172bfb0?count=10&key=42e8f800\" > ' + json_name)\n",
    "\n",
    "#os.system('mv ' + json_name + ' ../json')\n"
   ]
  },
  {
   "cell_type": "code",
   "execution_count": 4,
   "metadata": {},
   "outputs": [],
   "source": [
    "\n",
    "json_path = \"/home/jovyan/work/json\"\n",
    "json_topic = \"patient-data\"\n",
    "kafka_server = \"kafka:29092\"\n",
    "\n",
    "streamingDataFrame = spark.readStream.schema(mySchema).json(json_path).filter(\"id is not null\") # filter null records\n",
    "\n"
   ]
  },
  {
   "cell_type": "code",
   "execution_count": null,
   "metadata": {},
   "outputs": [],
   "source": []
  },
  {
   "cell_type": "code",
   "execution_count": 5,
   "metadata": {},
   "outputs": [
    {
     "data": {
      "text/plain": [
       "DataFrame[id: int, nome: string, idade: int, sexo: int, peso: double, altura: int, bpm: double, pressao: double, respiracao: double, temperatura: double, glicemia: double, saturacao_oxigenio: double, estado_atividade: int, dia_de_semana: int, periodo_do_dia: int, semana_do_mes: int, estacao_do_ano: int, passos: int, calorias: double, distancia: double, tempo: double, total_sleep_last_24: double, deep_sleep_last_24: double, light_sleep_last_24: double, awake_last_24: double, fumante: int, genetica: int, gestante: int, frutas: int, vegetais: int, alcool: int, doenca_coracao: int, avc: int, colesterol_alto: int, exercicio: int, timestampstr: string, timestamp_epoch: string]"
      ]
     },
     "metadata": {},
     "output_type": "display_data"
    }
   ],
   "source": [
    "display(streamingDataFrame)"
   ]
  },
  {
   "cell_type": "code",
   "execution_count": 6,
   "metadata": {},
   "outputs": [
    {
     "data": {
      "text/plain": [
       "<pyspark.sql.streaming.StreamingQuery at 0x7f09680ce940>"
      ]
     },
     "execution_count": 6,
     "metadata": {},
     "output_type": "execute_result"
    }
   ],
   "source": [
    "\n",
    "streamingDataFrame.selectExpr(\"CAST(id AS STRING) AS key\", \"to_json(struct(*)) AS value\") \\\n",
    "  .writeStream \\\n",
    "  .format(\"kafka\") \\\n",
    "  .option(\"topic\", json_topic) \\\n",
    "  .option(\"kafka.bootstrap.servers\", kafka_server) \\\n",
    "  .option(\"checkpointLocation\", json_path) \\\n",
    "  .start()\n"
   ]
  },
  {
   "cell_type": "code",
   "execution_count": 7,
   "metadata": {},
   "outputs": [
    {
     "data": {
      "text/plain": [
       "<pyspark.sql.streaming.StreamingQuery at 0x7f09680a53d0>"
      ]
     },
     "execution_count": 7,
     "metadata": {},
     "output_type": "execute_result"
    }
   ],
   "source": [
    "\n",
    "streamingDataFrame.selectExpr(\"CAST(id AS STRING) AS key\", \"to_json(struct(*)) AS value\") \\\n",
    "    .writeStream \\\n",
    "    .format(\"console\") \\\n",
    "    .start()\n"
   ]
  },
  {
   "cell_type": "code",
   "execution_count": 8,
   "metadata": {},
   "outputs": [
    {
     "name": "stdout",
     "output_type": "stream",
     "text": [
      "ID:290ac47f-4788-4941-90b5-8ad33d362e37 | NAME:None\n",
      "ID:fbd2fec6-d4b1-496a-8b33-0a79c350a0e0 | NAME:None\n"
     ]
    }
   ],
   "source": [
    "# Check active streams\n",
    "for s in spark.streams.active:\n",
    "    print(\"ID:{} | NAME:{}\".format(s.id, s.name))"
   ]
  },
  {
   "cell_type": "code",
   "execution_count": 9,
   "metadata": {},
   "outputs": [],
   "source": [
    "import requests\n",
    "import os\n",
    "import time"
   ]
  },
  {
   "cell_type": "code",
   "execution_count": 11,
   "metadata": {},
   "outputs": [
    {
     "name": "stdout",
     "output_type": "stream",
     "text": [
      "b'[\\n{\"id\":2,\"nome\":\"maria\",\"idade\":45,\"sexo\":1,\"peso\":81,\"altura\":171,\"bpm\":86,\"pressao\":14,\"respiracao\":19,\"temperatura\":40,\"glicemia\":107,\"saturacao_oxigenio\":95,\"estado_atividade\":0,\"dia_de_semana\":1,\"periodo_do_dia\":3,\"semana_do_mes\":0,\"estacao_do_ano\":3,\"passos\":299,\"calorias\":23.92,\"distancia\":373.75,\"tempo\":4.784,\"total_sleep_last_24\":6,\"deep_sleep_last_24\":9,\"light_sleep_last_24\":3,\"awake_last_24\":20,\"fumante\":0,\"genetica\":0,\"gestante\":1,\"frutas\":1,\"vegetais\":1,\"alcool\":0,\"doenca_coracao\":0,\"avc\":0,\"colesterol_alto\":0,\"exercicio\":1,\"timestampstr\":\"2022-03-03 03:12:18\",\"timestamp_epoch\":\"1646277138\"},\\n{\"id\":2,\"nome\":\"maria\",\"idade\":45,\"sexo\":1,\"peso\":85,\"altura\":171,\"bpm\":58,\"pressao\":13,\"respiracao\":12,\"temperatura\":39,\"glicemia\":115,\"saturacao_oxigenio\":99,\"estado_atividade\":1,\"dia_de_semana\":0,\"periodo_do_dia\":2,\"semana_do_mes\":3,\"estacao_do_ano\":2,\"passos\":312,\"calorias\":24.96,\"distancia\":390,\"tempo\":4.992,\"total_sleep_last_24\":7,\"deep_sleep_last_24\":8,\"light_sleep_last_24\":4,\"awake_last_24\":13,\"fumante\":0,\"genetica\":0,\"gestante\":1,\"frutas\":1,\"vegetais\":1,\"alcool\":0,\"doenca_coracao\":0,\"avc\":0,\"colesterol_alto\":0,\"exercicio\":1,\"timestampstr\":\"2022-03-23 03:28:06\",\"timestamp_epoch\":\"1648006086\"},\\n{\"id\":1,\"nome\":\"joao\",\"idade\":34,\"sexo\":0,\"peso\":76,\"altura\":170,\"bpm\":112,\"pressao\":10,\"respiracao\":19,\"temperatura\":35,\"glicemia\":60,\"saturacao_oxigenio\":94,\"estado_atividade\":0,\"dia_de_semana\":1,\"periodo_do_dia\":1,\"semana_do_mes\":3,\"estacao_do_ano\":0,\"passos\":180,\"calorias\":14.4,\"distancia\":225,\"tempo\":2.88,\"total_sleep_last_24\":10,\"deep_sleep_last_24\":2,\"light_sleep_last_24\":3,\"awake_last_24\":16,\"fumante\":1,\"genetica\":1,\"gestante\":0,\"frutas\":0,\"vegetais\":0,\"alcool\":1,\"doenca_coracao\":1,\"avc\":1,\"colesterol_alto\":1,\"exercicio\":0,\"timestampstr\":\"2022-03-24 19:57:47\",\"timestamp_epoch\":\"1648151867\"},\\n{\"id\":3,\"nome\":\"antonio\",\"idade\":66,\"sexo\":0,\"peso\":67,\"altura\":190,\"bpm\":74,\"pressao\":11,\"respiracao\":16,\"temperatura\":34,\"glicemia\":86,\"saturacao_oxigenio\":97,\"estado_atividade\":2,\"dia_de_semana\":0,\"periodo_do_dia\":0,\"semana_do_mes\":1,\"estacao_do_ano\":2,\"passos\":352,\"calorias\":28.16,\"distancia\":440,\"tempo\":5.632,\"total_sleep_last_24\":3,\"deep_sleep_last_24\":4,\"light_sleep_last_24\":4,\"awake_last_24\":11,\"fumante\":0,\"genetica\":1,\"gestante\":0,\"frutas\":1,\"vegetais\":0,\"alcool\":0,\"doenca_coracao\":0,\"avc\":1,\"colesterol_alto\":1,\"exercicio\":0,\"timestampstr\":\"2022-03-27 09:07:35\",\"timestamp_epoch\":\"1648372055\"},\\n{\"id\":1,\"nome\":\"joao\",\"idade\":34,\"sexo\":0,\"peso\":100,\"altura\":170,\"bpm\":64,\"pressao\":11,\"respiracao\":18,\"temperatura\":40,\"glicemia\":94,\"saturacao_oxigenio\":98,\"estado_atividade\":1,\"dia_de_semana\":1,\"periodo_do_dia\":2,\"semana_do_mes\":0,\"estacao_do_ano\":1,\"passos\":250,\"calorias\":20,\"distancia\":312.5,\"tempo\":4,\"total_sleep_last_24\":7,\"deep_sleep_last_24\":6,\"light_sleep_last_24\":3,\"awake_last_24\":19,\"fumante\":1,\"genetica\":1,\"gestante\":0,\"frutas\":0,\"vegetais\":0,\"alcool\":1,\"doenca_coracao\":1,\"avc\":1,\"colesterol_alto\":1,\"exercicio\":0,\"timestampstr\":\"2022-03-09 12:40:10\",\"timestamp_epoch\":\"1646829610\"},\\n{\"id\":1,\"nome\":\"joao\",\"idade\":34,\"sexo\":0,\"peso\":69,\"altura\":170,\"bpm\":66,\"pressao\":13,\"respiracao\":15,\"temperatura\":34,\"glicemia\":127,\"saturacao_oxigenio\":98,\"estado_atividade\":2,\"dia_de_semana\":1,\"periodo_do_dia\":0,\"semana_do_mes\":0,\"estacao_do_ano\":3,\"passos\":206,\"calorias\":16.48,\"distancia\":257.5,\"tempo\":3.296,\"total_sleep_last_24\":9,\"deep_sleep_last_24\":6,\"light_sleep_last_24\":1,\"awake_last_24\":16,\"fumante\":1,\"genetica\":1,\"gestante\":0,\"frutas\":0,\"vegetais\":0,\"alcool\":1,\"doenca_coracao\":1,\"avc\":1,\"colesterol_alto\":1,\"exercicio\":0,\"timestampstr\":\"2022-03-17 14:44:11\",\"timestamp_epoch\":\"1647528251\"},\\n{\"id\":3,\"nome\":\"antonio\",\"idade\":66,\"sexo\":0,\"peso\":58,\"altura\":190,\"bpm\":57,\"pressao\":13,\"respiracao\":17,\"temperatura\":36,\"glicemia\":60,\"saturacao_oxigenio\":98,\"estado_atividade\":0,\"dia_de_semana\":0,\"periodo_do_dia\":0,\"semana_do_mes\":2,\"estacao_do_ano\":0,\"passos\":316,\"calorias\":25.28,\"distancia\":395,\"tempo\":5.056,\"total_sleep_last_24\":4,\"deep_sleep_last_24\":7,\"light_sleep_last_24\":3,\"awake_last_24\":16,\"fumante\":0,\"genetica\":1,\"gestante\":0,\"frutas\":1,\"vegetais\":0,\"alcool\":0,\"doenca_coracao\":0,\"avc\":1,\"colesterol_alto\":1,\"exercicio\":0,\"timestampstr\":\"2022-03-08 14:25:22\",\"timestamp_epoch\":\"1646749522\"},\\n{\"id\":3,\"nome\":\"antonio\",\"idade\":66,\"sexo\":0,\"peso\":63,\"altura\":190,\"bpm\":82,\"pressao\":13,\"respiracao\":20,\"temperatura\":34,\"glicemia\":75,\"saturacao_oxigenio\":100,\"estado_atividade\":1,\"dia_de_semana\":1,\"periodo_do_dia\":3,\"semana_do_mes\":2,\"estacao_do_ano\":2,\"passos\":170,\"calorias\":13.6,\"distancia\":212.5,\"tempo\":2.72,\"total_sleep_last_24\":8,\"deep_sleep_last_24\":3,\"light_sleep_last_24\":4,\"awake_last_24\":15,\"fumante\":0,\"genetica\":1,\"gestante\":0,\"frutas\":1,\"vegetais\":0,\"alcool\":0,\"doenca_coracao\":0,\"avc\":1,\"colesterol_alto\":1,\"exercicio\":0,\"timestampstr\":\"2022-03-11 23:38:07\",\"timestamp_epoch\":\"1647041887\"},\\n{\"id\":2,\"nome\":\"maria\",\"idade\":45,\"sexo\":1,\"peso\":64,\"altura\":171,\"bpm\":67,\"pressao\":12,\"respiracao\":20,\"temperatura\":34,\"glicemia\":70,\"saturacao_oxigenio\":96,\"estado_atividade\":0,\"dia_de_semana\":1,\"periodo_do_dia\":2,\"semana_do_mes\":2,\"estacao_do_ano\":3,\"passos\":212,\"calorias\":16.96,\"distancia\":265,\"tempo\":3.392,\"total_sleep_last_24\":8,\"deep_sleep_last_24\":3,\"light_sleep_last_24\":1,\"awake_last_24\":16,\"fumante\":0,\"genetica\":0,\"gestante\":1,\"frutas\":1,\"vegetais\":1,\"alcool\":0,\"doenca_coracao\":0,\"avc\":0,\"colesterol_alto\":0,\"exercicio\":1,\"timestampstr\":\"2022-03-27 11:47:15\",\"timestamp_epoch\":\"1648381635\"},\\n{\"id\":2,\"nome\":\"maria\",\"idade\":45,\"sexo\":1,\"peso\":67,\"altura\":171,\"bpm\":106,\"pressao\":12,\"respiracao\":10,\"temperatura\":34,\"glicemia\":98,\"saturacao_oxigenio\":101,\"estado_atividade\":1,\"dia_de_semana\":1,\"periodo_do_dia\":0,\"semana_do_mes\":1,\"estacao_do_ano\":1,\"passos\":382,\"calorias\":30.56,\"distancia\":477.5,\"tempo\":6.112,\"total_sleep_last_24\":8,\"deep_sleep_last_24\":1,\"light_sleep_last_24\":1,\"awake_last_24\":14,\"fumante\":0,\"genetica\":0,\"gestante\":1,\"frutas\":1,\"vegetais\":1,\"alcool\":0,\"doenca_coracao\":0,\"avc\":0,\"colesterol_alto\":0,\"exercicio\":1,\"timestampstr\":\"2022-03-19 15:24:47\",\"timestamp_epoch\":\"1647703487\"}\\n]'\n"
     ]
    },
    {
     "data": {
      "text/plain": [
       "0"
      ]
     },
     "execution_count": 11,
     "metadata": {},
     "output_type": "execute_result"
    }
   ],
   "source": [
    "# Get just one file from API\n",
    "\n",
    "timestr = time.strftime(\"%Y%m%d-%H%M%S\")\n",
    "\n",
    "json_name = \"patient-data-\" + timestr + '.json' \n",
    "\n",
    "with open('/home/jovyan/work/json/sample.json', 'rb') as file:\n",
    "    files = {'f': ('sample.json', file)}\n",
    "    response = requests.post(\"https://api.mockaroo.com/api/e172bfb0?count=10&key=42e8f800\",files=files)  #https://638d3c7e4190defdb74041ac.mockapi.io/patients\n",
    "\n",
    "response.raise_for_status() # ensure we notice bad responses\n",
    "\n",
    "content_str = response.content.decode(\"utf-8\") # convert bytes to str\n",
    "\n",
    "content_str = content_str[:1] + '\\n' + content_str[1:] # insert line break after the first char\n",
    "\n",
    "content_str = content_str[:len(content_str)-1] + '\\n' + content_str[len(content_str)-1:] # insert line break before the last char\n",
    "\n",
    "content_bytes = bytes(content_str, 'utf-8') # convert str back to bytes\n",
    "\n",
    "print(content_bytes)\n",
    "\n",
    "with open(json_name, \"wb\") as file:\n",
    "    file.write(content_bytes)\n",
    "    \n",
    "os.system('mv ' + json_name + ' /home/jovyan/work/json')\n"
   ]
  },
  {
   "cell_type": "code",
   "execution_count": 12,
   "metadata": {
    "tags": []
   },
   "outputs": [
    {
     "ename": "KeyboardInterrupt",
     "evalue": "",
     "output_type": "error",
     "traceback": [
      "\u001b[0;31m---------------------------------------------------------------------------\u001b[0m",
      "\u001b[0;31mKeyboardInterrupt\u001b[0m                         Traceback (most recent call last)",
      "\u001b[0;32m<ipython-input-12-22780f9cd3bf>\u001b[0m in \u001b[0;36m<module>\u001b[0;34m\u001b[0m\n\u001b[1;32m     25\u001b[0m     \u001b[0mos\u001b[0m\u001b[0;34m.\u001b[0m\u001b[0msystem\u001b[0m\u001b[0;34m(\u001b[0m\u001b[0;34m'mv '\u001b[0m \u001b[0;34m+\u001b[0m \u001b[0mjson_name\u001b[0m \u001b[0;34m+\u001b[0m \u001b[0;34m' /home/jovyan/work/json'\u001b[0m\u001b[0;34m)\u001b[0m\u001b[0;34m\u001b[0m\u001b[0;34m\u001b[0m\u001b[0m\n\u001b[1;32m     26\u001b[0m \u001b[0;34m\u001b[0m\u001b[0m\n\u001b[0;32m---> 27\u001b[0;31m     \u001b[0mtime\u001b[0m\u001b[0;34m.\u001b[0m\u001b[0msleep\u001b[0m\u001b[0;34m(\u001b[0m\u001b[0;36m15\u001b[0m\u001b[0;34m)\u001b[0m\u001b[0;34m\u001b[0m\u001b[0;34m\u001b[0m\u001b[0m\n\u001b[0m",
      "\u001b[0;31mKeyboardInterrupt\u001b[0m: "
     ]
    }
   ],
   "source": [
    "# loop getting n files from API\n",
    "\n",
    "while True:\n",
    "    timestr = time.strftime(\"%Y%m%d-%H%M%S\")\n",
    "\n",
    "    json_name = \"patient-data-\" + timestr + '.json' \n",
    "\n",
    "    with open('/home/jovyan/work/json/sample.json', 'rb') as file:\n",
    "        files = {'f': ('sample.json', file)}\n",
    "        response = requests.post(\"https://api.mockaroo.com/api/e172bfb0?count=10&key=42e8f800\",files=files)  #https://638d3c7e4190defdb74041ac.mockapi.io/patients\n",
    "\n",
    "    response.raise_for_status() # ensure we notice bad responses\n",
    "\n",
    "    content_str = response.content.decode(\"utf-8\") # convert bytes to str\n",
    "\n",
    "    content_str = content_str[:1] + '\\n' + content_str[1:] # insert line break after the first char\n",
    "\n",
    "    content_str = content_str[:len(content_str)-1] + '\\n' + content_str[len(content_str)-1:] # insert line break before the last char\n",
    "\n",
    "    content_bytes = bytes(content_str, 'utf-8') # convert str back to bytes\n",
    "\n",
    "    with open(json_name, \"wb\") as file:\n",
    "        file.write(content_bytes)\n",
    "\n",
    "    os.system('mv ' + json_name + ' /home/jovyan/work/json')\n",
    "\n",
    "    time.sleep(15)"
   ]
  },
  {
   "cell_type": "code",
   "execution_count": 40,
   "metadata": {},
   "outputs": [],
   "source": [
    "spark.stop()"
   ]
  },
  {
   "cell_type": "code",
   "execution_count": null,
   "metadata": {},
   "outputs": [],
   "source": []
  }
 ],
 "metadata": {
  "kernelspec": {
   "display_name": "Python 3",
   "language": "python",
   "name": "python3"
  },
  "language_info": {
   "codemirror_mode": {
    "name": "ipython",
    "version": 3
   },
   "file_extension": ".py",
   "mimetype": "text/x-python",
   "name": "python",
   "nbconvert_exporter": "python",
   "pygments_lexer": "ipython3",
   "version": "3.9.4"
  }
 },
 "nbformat": 4,
 "nbformat_minor": 4
}
