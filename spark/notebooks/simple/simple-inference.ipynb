{
 "cells": [
  {
   "cell_type": "markdown",
   "metadata": {},
   "source": [
    "# Simple Inference"
   ]
  },
  {
   "cell_type": "code",
   "execution_count": 1,
   "metadata": {},
   "outputs": [
    {
     "name": "stdout",
     "output_type": "stream",
     "text": [
      "Requirement already satisfied: kafka-python in /opt/conda/lib/python3.9/site-packages (2.0.2)\n"
     ]
    }
   ],
   "source": [
    "!pip install kafka-python"
   ]
  },
  {
   "cell_type": "code",
   "execution_count": 1,
   "metadata": {},
   "outputs": [],
   "source": [
    "from kafka import KafkaConsumer\n",
    "from json import loads\n",
    "\n",
    "kafka_consumer = 'kafka:9092'\n",
    "kafka_producer = 'kafka:29092'\n",
    "\n",
    "topic_consumer = 'simple-topic'\n",
    "\n",
    "consumer = KafkaConsumer(\n",
    "     topic_consumer,\n",
    "     bootstrap_servers=[kafka_consumer],\n",
    "     auto_offset_reset='earliest',\n",
    "     enable_auto_commit=True,\n",
    "     value_deserializer=lambda x: loads(x.decode('utf-8')))\n"
   ]
  },
  {
   "cell_type": "code",
   "execution_count": 2,
   "metadata": {},
   "outputs": [],
   "source": [
    "import json\n",
    "from kafka import KafkaProducer\n",
    "\n",
    "# Create producer\n",
    "producer = KafkaProducer(\n",
    "    bootstrap_servers=kafka_producer, # kafka server ip address inspect - something like 172.23.0.5\n",
    "    value_serializer=lambda v: json.dumps(v).encode('utf-8') #json serializer\n",
    "    )\n"
   ]
  },
  {
   "cell_type": "code",
   "execution_count": 3,
   "metadata": {},
   "outputs": [
    {
     "name": "stdout",
     "output_type": "stream",
     "text": [
      "1\n",
      "1\n"
     ]
    }
   ],
   "source": [
    "message = '{\"id\":1, \"nome\":\"simple-1\"}'\n",
    "\n",
    "keyword = '\"id\":'\n",
    "index_of_id = message.index(keyword) + len(keyword)\n",
    "id_consumer = message[index_of_id:index_of_id+1]\n",
    "print(id_consumer)\n",
    "\n",
    "json_object = json.loads(message)\n",
    "print(json_object[\"id\"])"
   ]
  },
  {
   "cell_type": "code",
   "execution_count": null,
   "metadata": {},
   "outputs": [
    {
     "name": "stdout",
     "output_type": "stream",
     "text": [
      "odd added:\n",
      "   {'id': 1, 'nome': 'simple'} added\n",
      "even added:\n",
      "   {'id': 0, 'nome': 'simple-0'} added\n",
      "odd added:\n",
      "   {'id': 1, 'nome': 'simple-1'} added\n",
      "even added:\n",
      "   {'id': 2, 'nome': 'simple-2'} added\n",
      "odd added:\n",
      "   {'id': 3, 'nome': 'simple-3'} added\n",
      "even added:\n",
      "   {'id': 4, 'nome': 'simple-4'} added\n",
      "odd added:\n",
      "   {'id': 5, 'nome': 'simple-5'} added\n",
      "even added:\n",
      "   {'id': 6, 'nome': 'simple-6'} added\n",
      "odd added:\n",
      "   {'id': 7, 'nome': 'simple-7'} added\n",
      "even added:\n",
      "   {'id': 8, 'nome': 'simple-8'} added\n",
      "odd added:\n",
      "   {'id': 9, 'nome': 'simple-9'} added\n",
      "even added:\n",
      "   {'id': 0, 'nome': 'simple-0'} added\n",
      "odd added:\n",
      "   {'id': 1, 'nome': 'simple-1'} added\n",
      "even added:\n",
      "   {'id': 2, 'nome': 'simple-2'} added\n",
      "odd added:\n",
      "   {'id': 3, 'nome': 'simple-3'} added\n",
      "even added:\n",
      "   {'id': 4, 'nome': 'simple-4'} added\n",
      "odd added:\n",
      "   {'id': 5, 'nome': 'simple-5'} added\n",
      "even added:\n",
      "   {'id': 6, 'nome': 'simple-6'} added\n",
      "odd added:\n",
      "   {'id': 7, 'nome': 'simple-7'} added\n",
      "even added:\n",
      "   {'id': 8, 'nome': 'simple-8'} added\n",
      "odd added:\n",
      "   {'id': 9, 'nome': 'simple-9'} added\n",
      "even added:\n",
      "   {'id': 0, 'nome': 'simple-0'} added\n",
      "odd added:\n",
      "   {'id': 1, 'nome': 'simple-1'} added\n",
      "even added:\n",
      "   {'id': 2, 'nome': 'simple-2'} added\n",
      "odd added:\n",
      "   {'id': 3, 'nome': 'simple-3'} added\n",
      "even added:\n",
      "   {'id': 4, 'nome': 'simple-4'} added\n",
      "odd added:\n",
      "   {'id': 5, 'nome': 'simple-5'} added\n",
      "even added:\n",
      "   {'id': 6, 'nome': 'simple-6'} added\n",
      "odd added:\n",
      "   {'id': 7, 'nome': 'simple-7'} added\n",
      "even added:\n",
      "   {'id': 8, 'nome': 'simple-8'} added\n",
      "odd added:\n",
      "   {'id': 9, 'nome': 'simple-9'} added\n",
      "even added:\n",
      "   {'id': 10, 'nome': 'simple-10'} added\n",
      "odd added:\n",
      "   {'id': 11, 'nome': 'simple-11'} added\n",
      "even added:\n",
      "   {'id': 12, 'nome': 'simple-12'} added\n"
     ]
    }
   ],
   "source": [
    "\n",
    "topic_even = 'even-topic'\n",
    "topic_odd = 'odd-topic'\n",
    "\n",
    "for message in consumer:\n",
    "    \n",
    "    message = message.value    \n",
    "\n",
    "    json_object = json.dumps(message) \n",
    "\n",
    "    json_object = json.loads(json_object)\n",
    "\n",
    "    if (json_object[\"id\"] % 2) == 0:\n",
    "        producer.send(topic_even, value=message)        \n",
    "        print('even added:'.format(message))    \n",
    "    else:\n",
    "        producer.send(topic_odd, value=message)      \n",
    "        print('odd added:'.format(message))    \n",
    "        \n",
    "    print('   {} added'.format(message))\n"
   ]
  },
  {
   "cell_type": "code",
   "execution_count": null,
   "metadata": {},
   "outputs": [],
   "source": []
  }
 ],
 "metadata": {
  "kernelspec": {
   "display_name": "Python 3",
   "language": "python",
   "name": "python3"
  },
  "language_info": {
   "codemirror_mode": {
    "name": "ipython",
    "version": 3
   },
   "file_extension": ".py",
   "mimetype": "text/x-python",
   "name": "python",
   "nbconvert_exporter": "python",
   "pygments_lexer": "ipython3",
   "version": "3.9.4"
  },
  "vscode": {
   "interpreter": {
    "hash": "9ac03a0a6051494cc606d484d27d20fce22fb7b4d169f583271e11d5ba46a56e"
   }
  }
 },
 "nbformat": 4,
 "nbformat_minor": 4
}
