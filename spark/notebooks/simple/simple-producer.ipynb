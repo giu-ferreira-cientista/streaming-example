{
 "cells": [
  {
   "attachments": {},
   "cell_type": "markdown",
   "id": "0b401ebc",
   "metadata": {},
   "source": [
    "# Simple Producer"
   ]
  },
  {
   "cell_type": "code",
   "execution_count": 2,
   "id": "05232ae9-fb64-44d3-b61f-d6dafdcb26c6",
   "metadata": {},
   "outputs": [
    {
     "name": "stdout",
     "output_type": "stream",
     "text": [
      "Collecting kafka-python\n",
      "  Downloading kafka_python-2.0.2-py2.py3-none-any.whl (246 kB)\n",
      "\u001b[K     |████████████████████████████████| 246 kB 7.2 MB/s eta 0:00:01\n",
      "\u001b[?25hInstalling collected packages: kafka-python\n",
      "Successfully installed kafka-python-2.0.2\n"
     ]
    }
   ],
   "source": [
    "!pip install kafka-python\n",
    "#hello"
   ]
  },
  {
   "cell_type": "code",
   "execution_count": 4,
   "id": "bef37a2e-446e-480c-a228-6e7c0bf53ec1",
   "metadata": {},
   "outputs": [],
   "source": [
    "import json\n",
    "from kafka import KafkaProducer\n",
    "\n",
    "# Create producer\n",
    "producer = KafkaProducer(\n",
    "    bootstrap_servers='kafka:29092', \n",
    "    value_serializer=lambda v: json.dumps(v).encode('utf-8') #json serializer\n",
    "    )\n"
   ]
  },
  {
   "cell_type": "code",
   "execution_count": 5,
   "id": "142f5e11-ea35-40c1-9c9a-233272f2f499",
   "metadata": {},
   "outputs": [
    {
     "data": {
      "text/plain": [
       "<kafka.producer.future.FutureRecordMetadata at 0x7feccc8af490>"
      ]
     },
     "execution_count": 5,
     "metadata": {},
     "output_type": "execute_result"
    }
   ],
   "source": [
    "\n",
    "topic_name = 'simple-topic'\n",
    "\n",
    "data = {\n",
    "        'id' : 1,\n",
    "        'nome' : 'simple'\n",
    "       }\n",
    "\n",
    "producer.send(topic_name, value=data)\n",
    "        \n"
   ]
  },
  {
   "cell_type": "code",
   "execution_count": 7,
   "id": "aafbe7c4-71d5-4720-906c-06179cc00912",
   "metadata": {},
   "outputs": [
    {
     "name": "stdout",
     "output_type": "stream",
     "text": [
      "{'id': 0, 'nome': 'simple-0'} added\n",
      "{'id': 1, 'nome': 'simple-1'} added\n",
      "{'id': 2, 'nome': 'simple-2'} added\n",
      "{'id': 3, 'nome': 'simple-3'} added\n",
      "{'id': 4, 'nome': 'simple-4'} added\n",
      "{'id': 5, 'nome': 'simple-5'} added\n",
      "{'id': 6, 'nome': 'simple-6'} added\n",
      "{'id': 7, 'nome': 'simple-7'} added\n",
      "{'id': 8, 'nome': 'simple-8'} added\n",
      "{'id': 9, 'nome': 'simple-9'} added\n"
     ]
    }
   ],
   "source": [
    "\n",
    "from time import sleep\n",
    "\n",
    "# Range Loop\n",
    "try:\n",
    "    for i in range(10):\n",
    "        data = {\n",
    "                'id' : i,\n",
    "                'nome' : 'simple-' + str(i)\n",
    "               }\n",
    "        producer.send(topic_name, value=data)\n",
    "        print('{} added'.format(data))\n",
    "\n",
    "        sleep(1)   \n",
    "        \n",
    "except KeyboardInterrupt:\n",
    "    print(\"process interrupted\")\n"
   ]
  },
  {
   "cell_type": "code",
   "execution_count": 8,
   "id": "a08320a1-58f2-446b-a086-013cfe7d671a",
   "metadata": {},
   "outputs": [
    {
     "name": "stdout",
     "output_type": "stream",
     "text": [
      "{'id': 0, 'nome': 'simple-0'} added\n",
      "{'id': 1, 'nome': 'simple-1'} added\n",
      "{'id': 2, 'nome': 'simple-2'} added\n",
      "{'id': 3, 'nome': 'simple-3'} added\n",
      "{'id': 4, 'nome': 'simple-4'} added\n",
      "{'id': 5, 'nome': 'simple-5'} added\n",
      "{'id': 6, 'nome': 'simple-6'} added\n",
      "{'id': 7, 'nome': 'simple-7'} added\n",
      "{'id': 8, 'nome': 'simple-8'} added\n",
      "{'id': 9, 'nome': 'simple-9'} added\n",
      "{'id': 10, 'nome': 'simple-10'} added\n",
      "{'id': 11, 'nome': 'simple-11'} added\n",
      "{'id': 12, 'nome': 'simple-12'} added\n",
      "process interrupted\n"
     ]
    }
   ],
   "source": [
    "\n",
    "# Infinite Loop\n",
    "try:\n",
    "    i = 0\n",
    "    while True:\n",
    "        data = {\n",
    "                'id' : i,\n",
    "                'nome' : 'simple-' + str(i)\n",
    "               }\n",
    "        producer.send(topic_name, value=data)\n",
    "        print('{} added'.format(data))\n",
    "        i = i + 1\n",
    "        sleep(1)   \n",
    "        \n",
    "except KeyboardInterrupt:\n",
    "    print(\"process interrupted\")\n"
   ]
  },
  {
   "cell_type": "code",
   "execution_count": null,
   "id": "b80a91bf-9d46-4c50-8dc1-a766e24925de",
   "metadata": {},
   "outputs": [],
   "source": []
  }
 ],
 "metadata": {
  "kernelspec": {
   "display_name": "Python 3",
   "language": "python",
   "name": "python3"
  },
  "language_info": {
   "codemirror_mode": {
    "name": "ipython",
    "version": 3
   },
   "file_extension": ".py",
   "mimetype": "text/x-python",
   "name": "python",
   "nbconvert_exporter": "python",
   "pygments_lexer": "ipython3",
   "version": "3.9.4"
  },
  "vscode": {
   "interpreter": {
    "hash": "9ac03a0a6051494cc606d484d27d20fce22fb7b4d169f583271e11d5ba46a56e"
   }
  }
 },
 "nbformat": 4,
 "nbformat_minor": 5
}
